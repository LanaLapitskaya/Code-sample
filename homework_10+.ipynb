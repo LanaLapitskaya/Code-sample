{
 "cells": [
  {
   "cell_type": "markdown",
   "metadata": {},
   "source": [
    "# Advanced Boosting Models"
   ]
  },
  {
   "cell_type": "code",
   "execution_count": 1,
   "metadata": {},
   "outputs": [],
   "source": [
    "import numpy as np \n",
    "import pandas as pd\n",
    "from sklearn.base import BaseEstimator, TransformerMixin\n",
    "from sklearn.preprocessing import OneHotEncoder, StandardScaler\n",
    "from sklearn.impute import SimpleImputer\n",
    "from sklearn.pipeline import FeatureUnion, Pipeline \n",
    "import math\n",
    "from sklearn.model_selection import train_test_split, GridSearchCV, RandomizedSearchCV, cross_val_score\n",
    "import catboost\n",
    "from datetime import date, datetime"
   ]
  },
  {
   "cell_type": "code",
   "execution_count": 15,
   "metadata": {},
   "outputs": [],
   "source": [
    "#Custom Transformer that extracts columns passed as argument to its constructor \n",
    "class FeatureSelector(BaseEstimator, TransformerMixin):\n",
    "   \n",
    "    def __init__( self, feature_names ):\n",
    "        self._feature_names = feature_names \n",
    "     \n",
    "    def fit( self, X, y = None ):\n",
    "        return self \n",
    "    \n",
    "    def transform( self, X, y = None ):\n",
    "        return X[ self._feature_names ] "
   ]
  },
  {
   "cell_type": "code",
   "execution_count": 16,
   "metadata": {},
   "outputs": [],
   "source": [
    "class IntTransformer(BaseEstimator, TransformerMixin):\n",
    "\n",
    "    def fit(self, X, y=None):\n",
    "        return self\n",
    "    \n",
    "    def transform(self, X, y=None):\n",
    "        X = X.copy()\n",
    "        self.fix_rubles(X)\n",
    "        self.log_(X)\n",
    "        self.fill_na(X)\n",
    "        self.fix_dates(X)\n",
    "        return X.drop(['TP_CHANGES_NUM', 'ACT_DATE', 'BIRTHDAY', 'USER_ID'], axis=1).values\n",
    "     \n",
    "    def fill_na(self, X):\n",
    "        col_list = ['REFILL_OCT_16', 'REFILL_NOV_16', 'OUTGOING_OCT_16', 'OUTGOING_NOV_16',\n",
    "       'GPRS_OCT_16', 'GPRS_NOV_16', 'OBLIG_NUM', 'REVENUE_OCT_16', 'REVENUE_NOV_16', 'LOG_TP_CHANGES_NUM']\n",
    "        \n",
    "        X[col_list] = df.loc[:, col_list].fillna(0)\n",
    "         \n",
    "        \n",
    "    def log_(self, X):\n",
    "        X['LOG_TP_CHANGES_NUM'] = np.log(df.TP_CHANGES_NUM)\n",
    "        X['LOG_TP_CHANGES_NUM'].replace(-math.inf, 0)\n",
    "       \n",
    "        \n",
    "    def fix_rubles(self, X):\n",
    "        X['REFILL_OCT_16'] = 0.0001 * X['REFILL_OCT_16']\n",
    "        X['REFILL_NOV_16'] = 0.0001 *X['REFILL_NOV_16']\n",
    "    \n",
    "    def fix_dates(self, X):\n",
    "        def calculate_age(born):    \n",
    "            return (today - born)/np.timedelta64(1,'Y')\n",
    "\n",
    "        def calculate_months(beg):\n",
    "            return (today - beg)/np.timedelta64(1,'M')\n",
    "        today = datetime(2016,11,1)\n",
    "        X['AGE'] = X['BIRTHDAY'].apply(\n",
    "            lambda x: calculate_age(pd.to_datetime(x)))\n",
    "        X['DURATION_M'] = X['ACT_DATE'].apply(lambda x: int(calculate_months(pd.to_datetime(x))))"
   ]
  },
  {
   "cell_type": "code",
   "execution_count": 17,
   "metadata": {},
   "outputs": [],
   "source": [
    "class CatTransformer(BaseEstimator, TransformerMixin):\n",
    "  \n",
    "    def __init__(self):\n",
    "        self.preserve = []    \n",
    "    \n",
    "    def fit(self, X, y=None):\n",
    "        return self\n",
    "    \n",
    "    def transform(self, X, y=None):\n",
    "        X = X.copy()\n",
    "        self.fill(X)\n",
    "        self.add_match(X)\n",
    "        return X.drop(['DEVICE_TYPE_BUS', 'ASSET_TYPE_LAST', 'START_PACK',\n",
    "                       'OFFER_GROUP', 'PORTED_IN', 'PORTED_OUT'], axis=1).values\n",
    "\n",
    "    def add_match(self, X):\n",
    "        X['DEVICE_MATCH'] = np.where(X['ASSET_TYPE_LAST'] == X['DEVICE_TYPE_BUS'], 1, 0)\n",
    "        \n",
    "    def fill(self, X):\n",
    "        X['USAGE_AREA'] = X.USAGE_AREA.fillna('Undefined')\n",
    "        X['DEVICE_TYPE_BUS'] = np.where(X['DEVICE_TYPE_BUS'] == 'Smartphone', 1, 0)\n",
    "        X['MLLS_STATE'] = df['MLLS_STATE'].fillna('Undefined')\n",
    "        X['OBLIG_ON_START'] = X['OBLIG_ON_START'].replace(False, 0)\n",
    "        X['OBLIG_ON_START'] = X['OBLIG_ON_START'].replace(True, 1)\n",
    "        X['Combined'] = X[['START_PACK','OFFER_GROUP']].fillna('').sum(axis=1)\n",
    "         "
   ]
  },
  {
   "cell_type": "code",
   "execution_count": 18,
   "metadata": {
    "scrolled": true
   },
   "outputs": [],
   "source": [
    "df = pd.read_csv('homework_05//train.csv',sep = ';')\n",
    "pd.set_option('display.max_columns', 500)\n",
    "\n",
    "X = df.drop(['ACTIVITY_DEC_16'], axis=1)\n",
    "y = df.ACTIVITY_DEC_16\n",
    "X_train, X_test, y_train, y_test = train_test_split(X, y ,test_size=0.2, random_state=42)"
   ]
  },
  {
   "cell_type": "code",
   "execution_count": 19,
   "metadata": {},
   "outputs": [],
   "source": [
    "int_pipeline = Pipeline(\n",
    "    steps=[\n",
    "        ('int_selector', FeatureSelector(['REFILL_OCT_16', 'ACT_DATE', 'BIRTHDAY',\n",
    "           'REFILL_NOV_16', 'OUTGOING_OCT_16', 'OUTGOING_NOV_16', 'GPRS_OCT_16',\n",
    "           'GPRS_NOV_16', 'REVENUE_OCT_16', 'REVENUE_NOV_16', 'USER_ID', 'OBLIG_NUM', 'TP_CHANGES_NUM'])),\n",
    "        ('int_transformer', IntTransformer())\n",
    "    ]\n",
    ")\n",
    "\n",
    "categorial_pipeline = Pipeline(\n",
    "    steps=[\n",
    "        ('cat_selector', FeatureSelector(['USAGE_AREA', 'MLLS_STATE', 'ASSET_TYPE_LAST', \n",
    "                                          'DEVICE_TYPE_BUS', 'OBLIG_ON_START', 'START_PACK',\n",
    "                                            'OFFER_GROUP','PORTED_IN', 'PORTED_OUT'])),\n",
    "        ('cat_transformer', CatTransformer()),\n",
    "        ('cat_encoder', OneHotEncoder())\n",
    "    ]\n",
    ")\n",
    "\n",
    "rest_pipeline = Pipeline(\n",
    "    steps=[\n",
    "        ('no_proc_selector', FeatureSelector(['GENDER'])),\n",
    "        ('no_proc_imputer', SimpleImputer(strategy='most_frequent')),\n",
    "        ('no_proc_encoder', OneHotEncoder())\n",
    "    ]\n",
    ")"
   ]
  },
  {
   "cell_type": "code",
   "execution_count": 20,
   "metadata": {},
   "outputs": [],
   "source": [
    "pipeline = FeatureUnion(transformer_list= [\n",
    "    ('int', int_pipeline),\n",
    "    ('cat', categorial_pipeline),\n",
    "    ('no_proc', rest_pipeline)\n",
    "])"
   ]
  },
  {
   "cell_type": "markdown",
   "metadata": {},
   "source": [
    "# lightgbm"
   ]
  },
  {
   "cell_type": "code",
   "execution_count": 254,
   "metadata": {},
   "outputs": [],
   "source": [
    "import lightgbm as lgb\n",
    "lgb_params = [\n",
    "    {\n",
    "        'max_depth': [5, 7,  11],\n",
    "        'learning_rate': [0.1, 0.15],\n",
    "        'n_estimators': [100, 150, 200],\n",
    "        \n",
    "    }\n",
    "]\n",
    "\n",
    "lgbm = Pipeline(\n",
    "    steps=[\n",
    "        ('preprocessing', pipeline),\n",
    "        ('model', GridSearchCV(lgb.LGBMClassifier(\n",
    "            random_state=42,\n",
    "            n_jobs=-1\n",
    "        ),\n",
    "        lgb_params, n_jobs=-1, refit=True, cv=3, \n",
    "        scoring='accuracy'))\n",
    "    ]\n",
    ")"
   ]
  },
  {
   "cell_type": "code",
   "execution_count": 255,
   "metadata": {},
   "outputs": [
    {
     "name": "stdout",
     "output_type": "stream",
     "text": [
      "0.9246833276275248\n"
     ]
    }
   ],
   "source": [
    "lgbm.fit(X_train, y_train)\n",
    "y_pred = lgbm.predict(X_test)\n",
    "print(metrics.accuracy_score(y_test, y_pred))"
   ]
  },
  {
   "cell_type": "code",
   "execution_count": 259,
   "metadata": {},
   "outputs": [
    {
     "data": {
      "text/plain": [
       "array([0.92540763, 0.9302863 , 0.92064715])"
      ]
     },
     "execution_count": 259,
     "metadata": {},
     "output_type": "execute_result"
    }
   ],
   "source": [
    "lgbm_cv = cross_val_score(lgbm['model'].best_estimator_, pipeline.fit_transform(X_train), y=y_train, cv=3)\n",
    "lgbm_cv"
   ]
  }
 ],
 "metadata": {
  "kernelspec": {
   "display_name": "Python 3",
   "language": "python",
   "name": "python3"
  },
  "language_info": {
   "codemirror_mode": {
    "name": "ipython",
    "version": 3
   },
   "file_extension": ".py",
   "mimetype": "text/x-python",
   "name": "python",
   "nbconvert_exporter": "python",
   "pygments_lexer": "ipython3",
   "version": "3.7.1"
  }
 },
 "nbformat": 4,
 "nbformat_minor": 4
}
